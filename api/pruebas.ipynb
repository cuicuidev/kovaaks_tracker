{
 "cells": [
  {
   "cell_type": "code",
   "execution_count": 13,
   "metadata": {},
   "outputs": [],
   "source": [
    "import sqlite3 as sql"
   ]
  },
  {
   "cell_type": "code",
   "execution_count": 21,
   "metadata": {},
   "outputs": [],
   "source": [
    "db = None\n",
    "cursor = None\n",
    "data = None\n",
    "\n",
    "try:\n",
    "    db = sql.connect(\"database2.db\")\n",
    "    cursor = db.cursor()\n",
    "    cursor.execute(\"\"\"\n",
    "    SELECT * FROM entry;\n",
    "    \"\"\")\n",
    "    data = cursor.fetchall()\n",
    "except: pass\n",
    "finally:\n",
    "    if cursor:\n",
    "        cursor.close()\n",
    "        cursor = None\n",
    "    if db:\n",
    "        db.close()\n",
    "        db = None\n",
    "\n",
    "if data:\n",
    "    print(data)"
   ]
  },
  {
   "cell_type": "code",
   "execution_count": null,
   "metadata": {},
   "outputs": [],
   "source": []
  },
  {
   "cell_type": "code",
   "execution_count": null,
   "metadata": {},
   "outputs": [],
   "source": []
  }
 ],
 "metadata": {
  "kernelspec": {
   "display_name": "venv",
   "language": "python",
   "name": "python3"
  },
  "language_info": {
   "codemirror_mode": {
    "name": "ipython",
    "version": 3
   },
   "file_extension": ".py",
   "mimetype": "text/x-python",
   "name": "python",
   "nbconvert_exporter": "python",
   "pygments_lexer": "ipython3",
   "version": "3.12.8"
  }
 },
 "nbformat": 4,
 "nbformat_minor": 2
}
